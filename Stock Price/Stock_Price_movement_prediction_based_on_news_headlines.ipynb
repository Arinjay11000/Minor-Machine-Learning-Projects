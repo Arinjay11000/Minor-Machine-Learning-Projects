{
  "nbformat": 4,
  "nbformat_minor": 0,
  "metadata": {
    "colab": {
      "name": "Stock Price movement prediction based on news headlines.ipynb",
      "provenance": [],
      "collapsed_sections": [],
      "mount_file_id": "1NjFAC2VhrephBusfxhcuvYiV9OvqCVkg",
      "authorship_tag": "ABX9TyMbO7P2WAcg+WIlYeT+U+E4",
      "include_colab_link": true
    },
    "kernelspec": {
      "name": "python3",
      "display_name": "Python 3"
    },
    "language_info": {
      "name": "python"
    }
  },
  "cells": [
    {
      "cell_type": "markdown",
      "metadata": {
        "id": "view-in-github",
        "colab_type": "text"
      },
      "source": [
        "<a href=\"https://colab.research.google.com/github/Arinjay11000/Minor-Projects/blob/main/Stock%20Price/Stock_Price_movement_prediction_based_on_news_headlines.ipynb\" target=\"_parent\"><img src=\"https://colab.research.google.com/assets/colab-badge.svg\" alt=\"Open In Colab\"/></a>"
      ]
    },
    {
      "cell_type": "code",
      "metadata": {
        "id": "Zs_6R0r53rqP"
      },
      "source": [
        "import numpy as np \n",
        "import pandas as pd \n",
        "import matplotlib.pyplot as plt \n",
        "import seaborn as sns\n",
        "from sklearn.model_selection import train_test_split\n",
        "from sklearn.linear_model import LogisticRegression\n",
        "from sklearn.metrics import r2_score\n",
        "from sklearn.metrics import accuracy_score\n",
        "from sklearn.metrics import plot_confusion_matrix\n",
        "from sklearn.metrics import classification_report\n",
        "from sklearn.neighbors import KNeighborsClassifier\n",
        "from sklearn.ensemble import RandomForestClassifier\n",
        "from sklearn.tree import DecisionTreeClassifier\n",
        "from sklearn.naive_bayes import GaussianNB\n",
        "from sklearn.naive_bayes import MultinomialNB\n",
        "from imblearn.over_sampling import SMOTE"
      ],
      "execution_count": null,
      "outputs": []
    },
    {
      "cell_type": "code",
      "metadata": {
        "id": "iQtVviFd538P"
      },
      "source": [
        "import nltk\n",
        "from nltk.stem import PorterStemmer\n",
        "from nltk.stem import WordNetLemmatizer\n",
        "from nltk.corpus import stopwords\n",
        "import re\n",
        "from sklearn.feature_extraction.text import TfidfVectorizer\n",
        "from sklearn.feature_extraction.text import CountVectorizer\n",
        "from gensim.models import Word2Vec"
      ],
      "execution_count": null,
      "outputs": []
    },
    {
      "cell_type": "code",
      "metadata": {
        "colab": {
          "base_uri": "https://localhost:8080/"
        },
        "id": "hL4MHQohhAWH",
        "outputId": "c2c41261-4f77-4f59-9de9-9ea4444a36b7"
      },
      "source": [
        "nltk.download(\"stopwords\")"
      ],
      "execution_count": null,
      "outputs": [
        {
          "output_type": "stream",
          "name": "stdout",
          "text": [
            "[nltk_data] Downloading package stopwords to /root/nltk_data...\n",
            "[nltk_data]   Package stopwords is already up-to-date!\n"
          ]
        },
        {
          "output_type": "execute_result",
          "data": {
            "text/plain": [
              "True"
            ]
          },
          "metadata": {},
          "execution_count": 3
        }
      ]
    },
    {
      "cell_type": "code",
      "metadata": {
        "colab": {
          "base_uri": "https://localhost:8080/"
        },
        "id": "se9OGEdy8rmK",
        "outputId": "854f12cd-af64-46dd-c4f5-6526ab8a3a85"
      },
      "source": [
        "nltk.download(\"wordnet\")"
      ],
      "execution_count": null,
      "outputs": [
        {
          "output_type": "stream",
          "name": "stdout",
          "text": [
            "[nltk_data] Downloading package wordnet to /root/nltk_data...\n",
            "[nltk_data]   Package wordnet is already up-to-date!\n"
          ]
        },
        {
          "output_type": "execute_result",
          "data": {
            "text/plain": [
              "True"
            ]
          },
          "metadata": {},
          "execution_count": 4
        }
      ]
    },
    {
      "cell_type": "code",
      "metadata": {
        "colab": {
          "base_uri": "https://localhost:8080/",
          "height": 712
        },
        "id": "CFSNGzkg6bWz",
        "outputId": "08c9babe-41d1-4705-df81-790f6d9cff83"
      },
      "source": [
        "df=pd.read_csv(\"/content/drive/MyDrive/Combined_News_DJIA.csv\")\n",
        "df.head()"
      ],
      "execution_count": null,
      "outputs": [
        {
          "output_type": "execute_result",
          "data": {
            "text/html": [
              "<div>\n",
              "<style scoped>\n",
              "    .dataframe tbody tr th:only-of-type {\n",
              "        vertical-align: middle;\n",
              "    }\n",
              "\n",
              "    .dataframe tbody tr th {\n",
              "        vertical-align: top;\n",
              "    }\n",
              "\n",
              "    .dataframe thead th {\n",
              "        text-align: right;\n",
              "    }\n",
              "</style>\n",
              "<table border=\"1\" class=\"dataframe\">\n",
              "  <thead>\n",
              "    <tr style=\"text-align: right;\">\n",
              "      <th></th>\n",
              "      <th>Date</th>\n",
              "      <th>Label</th>\n",
              "      <th>Top1</th>\n",
              "      <th>Top2</th>\n",
              "      <th>Top3</th>\n",
              "      <th>Top4</th>\n",
              "      <th>Top5</th>\n",
              "      <th>Top6</th>\n",
              "      <th>Top7</th>\n",
              "      <th>Top8</th>\n",
              "      <th>Top9</th>\n",
              "      <th>Top10</th>\n",
              "      <th>Top11</th>\n",
              "      <th>Top12</th>\n",
              "      <th>Top13</th>\n",
              "      <th>Top14</th>\n",
              "      <th>Top15</th>\n",
              "      <th>Top16</th>\n",
              "      <th>Top17</th>\n",
              "      <th>Top18</th>\n",
              "      <th>Top19</th>\n",
              "      <th>Top20</th>\n",
              "      <th>Top21</th>\n",
              "      <th>Top22</th>\n",
              "      <th>Top23</th>\n",
              "      <th>Top24</th>\n",
              "      <th>Top25</th>\n",
              "    </tr>\n",
              "  </thead>\n",
              "  <tbody>\n",
              "    <tr>\n",
              "      <th>0</th>\n",
              "      <td>2008-08-08</td>\n",
              "      <td>0</td>\n",
              "      <td>b\"Georgia 'downs two Russian warplanes' as cou...</td>\n",
              "      <td>b'BREAKING: Musharraf to be impeached.'</td>\n",
              "      <td>b'Russia Today: Columns of troops roll into So...</td>\n",
              "      <td>b'Russian tanks are moving towards the capital...</td>\n",
              "      <td>b\"Afghan children raped with 'impunity,' U.N. ...</td>\n",
              "      <td>b'150 Russian tanks have entered South Ossetia...</td>\n",
              "      <td>b\"Breaking: Georgia invades South Ossetia, Rus...</td>\n",
              "      <td>b\"The 'enemy combatent' trials are nothing but...</td>\n",
              "      <td>b'Georgian troops retreat from S. Osettain cap...</td>\n",
              "      <td>b'Did the U.S. Prep Georgia for War with Russia?'</td>\n",
              "      <td>b'Rice Gives Green Light for Israel to Attack ...</td>\n",
              "      <td>b'Announcing:Class Action Lawsuit on Behalf of...</td>\n",
              "      <td>b\"So---Russia and Georgia are at war and the N...</td>\n",
              "      <td>b\"China tells Bush to stay out of other countr...</td>\n",
              "      <td>b'Did World War III start today?'</td>\n",
              "      <td>b'Georgia Invades South Ossetia - if Russia ge...</td>\n",
              "      <td>b'Al-Qaeda Faces Islamist Backlash'</td>\n",
              "      <td>b'Condoleezza Rice: \"The US would not act to p...</td>\n",
              "      <td>b'This is a busy day:  The European Union has ...</td>\n",
              "      <td>b\"Georgia will withdraw 1,000 soldiers from Ir...</td>\n",
              "      <td>b'Why the Pentagon Thinks Attacking Iran is a ...</td>\n",
              "      <td>b'Caucasus in crisis: Georgia invades South Os...</td>\n",
              "      <td>b'Indian shoe manufactory  - And again in a se...</td>\n",
              "      <td>b'Visitors Suffering from Mental Illnesses Ban...</td>\n",
              "      <td>b\"No Help for Mexico's Kidnapping Surge\"</td>\n",
              "    </tr>\n",
              "    <tr>\n",
              "      <th>1</th>\n",
              "      <td>2008-08-11</td>\n",
              "      <td>1</td>\n",
              "      <td>b'Why wont America and Nato help us? If they w...</td>\n",
              "      <td>b'Bush puts foot down on Georgian conflict'</td>\n",
              "      <td>b\"Jewish Georgian minister: Thanks to Israeli ...</td>\n",
              "      <td>b'Georgian army flees in disarray as Russians ...</td>\n",
              "      <td>b\"Olympic opening ceremony fireworks 'faked'\"</td>\n",
              "      <td>b'What were the Mossad with fraudulent New Zea...</td>\n",
              "      <td>b'Russia angered by Israeli military sale to G...</td>\n",
              "      <td>b'An American citizen living in S.Ossetia blam...</td>\n",
              "      <td>b'Welcome To World War IV! Now In High Definit...</td>\n",
              "      <td>b\"Georgia's move, a mistake of monumental prop...</td>\n",
              "      <td>b'Russia presses deeper into Georgia; U.S. say...</td>\n",
              "      <td>b'Abhinav Bindra wins first ever Individual Ol...</td>\n",
              "      <td>b' U.S. ship heads for Arctic to define territ...</td>\n",
              "      <td>b'Drivers in a Jerusalem taxi station threaten...</td>\n",
              "      <td>b'The French Team is Stunned by Phelps and the...</td>\n",
              "      <td>b'Israel and the US behind the Georgian aggres...</td>\n",
              "      <td>b'\"Do not believe TV, neither Russian nor Geor...</td>\n",
              "      <td>b'Riots are still going on in Montreal (Canada...</td>\n",
              "      <td>b'China to overtake US as largest manufacturer'</td>\n",
              "      <td>b'War in South Ossetia [PICS]'</td>\n",
              "      <td>b'Israeli Physicians Group Condemns State Tort...</td>\n",
              "      <td>b' Russia has just beaten the United States ov...</td>\n",
              "      <td>b'Perhaps *the* question about the Georgia - R...</td>\n",
              "      <td>b'Russia is so much better at war'</td>\n",
              "      <td>b\"So this is what it's come to: trading sex fo...</td>\n",
              "    </tr>\n",
              "    <tr>\n",
              "      <th>2</th>\n",
              "      <td>2008-08-12</td>\n",
              "      <td>0</td>\n",
              "      <td>b'Remember that adorable 9-year-old who sang a...</td>\n",
              "      <td>b\"Russia 'ends Georgia operation'\"</td>\n",
              "      <td>b'\"If we had no sexual harassment we would hav...</td>\n",
              "      <td>b\"Al-Qa'eda is losing support in Iraq because ...</td>\n",
              "      <td>b'Ceasefire in Georgia: Putin Outmaneuvers the...</td>\n",
              "      <td>b'Why Microsoft and Intel tried to kill the XO...</td>\n",
              "      <td>b'Stratfor: The Russo-Georgian War and the Bal...</td>\n",
              "      <td>b\"I'm Trying to Get a Sense of This Whole Geor...</td>\n",
              "      <td>b\"The US military was surprised by the timing ...</td>\n",
              "      <td>b'U.S. Beats War Drum as Iran Dumps the Dollar'</td>\n",
              "      <td>b'Gorbachev: \"Georgian military attacked the S...</td>\n",
              "      <td>b'CNN use footage of Tskhinvali ruins to cover...</td>\n",
              "      <td>b'Beginning a war as the Olympics were opening...</td>\n",
              "      <td>b'55 pyramids as large as the Luxor stacked in...</td>\n",
              "      <td>b'The 11 Top Party Cities in the World'</td>\n",
              "      <td>b'U.S. troops still in Georgia (did you know t...</td>\n",
              "      <td>b'Why Russias response to Georgia was right'</td>\n",
              "      <td>b'Gorbachev accuses U.S. of making a \"serious ...</td>\n",
              "      <td>b'Russia, Georgia, and NATO: Cold War Two'</td>\n",
              "      <td>b'Remember that adorable 62-year-old who led y...</td>\n",
              "      <td>b'War in Georgia: The Israeli connection'</td>\n",
              "      <td>b'All signs point to the US encouraging Georgi...</td>\n",
              "      <td>b'Christopher King argues that the US and NATO...</td>\n",
              "      <td>b'America: The New Mexico?'</td>\n",
              "      <td>b\"BBC NEWS | Asia-Pacific | Extinction 'by man...</td>\n",
              "    </tr>\n",
              "    <tr>\n",
              "      <th>3</th>\n",
              "      <td>2008-08-13</td>\n",
              "      <td>0</td>\n",
              "      <td>b' U.S. refuses Israel weapons to attack Iran:...</td>\n",
              "      <td>b\"When the president ordered to attack Tskhinv...</td>\n",
              "      <td>b' Israel clears troops who killed Reuters cam...</td>\n",
              "      <td>b'Britain\\'s policy of being tough on drugs is...</td>\n",
              "      <td>b'Body of 14 year old found in trunk; Latest (...</td>\n",
              "      <td>b'China has moved 10 *million* quake survivors...</td>\n",
              "      <td>b\"Bush announces Operation Get All Up In Russi...</td>\n",
              "      <td>b'Russian forces sink Georgian ships '</td>\n",
              "      <td>b\"The commander of a Navy air reconnaissance s...</td>\n",
              "      <td>b\"92% of CNN readers: Russia's actions in Geor...</td>\n",
              "      <td>b'USA to send fleet into Black Sea to help Geo...</td>\n",
              "      <td>b\"US warns against Israeli plan to strike agai...</td>\n",
              "      <td>b\"In an intriguing cyberalliance, two Estonian...</td>\n",
              "      <td>b'The CNN Effect: Georgia Schools Russia in In...</td>\n",
              "      <td>b'Why Russias response to Georgia was right'</td>\n",
              "      <td>b'Elephants extinct by 2020?'</td>\n",
              "      <td>b'US humanitarian missions soon in Georgia - i...</td>\n",
              "      <td>b\"Georgia's DDOS came from US sources\"</td>\n",
              "      <td>b'Russian convoy heads into Georgia, violating...</td>\n",
              "      <td>b'Israeli defence minister: US against strike ...</td>\n",
              "      <td>b'Gorbachev: We Had No Choice'</td>\n",
              "      <td>b'Witness: Russian forces head towards Tbilisi...</td>\n",
              "      <td>b' Quarter of Russians blame U.S. for conflict...</td>\n",
              "      <td>b'Georgian president  says US military will ta...</td>\n",
              "      <td>b'2006: Nobel laureate Aleksander Solzhenitsyn...</td>\n",
              "    </tr>\n",
              "    <tr>\n",
              "      <th>4</th>\n",
              "      <td>2008-08-14</td>\n",
              "      <td>1</td>\n",
              "      <td>b'All the experts admit that we should legalis...</td>\n",
              "      <td>b'War in South Osetia - 89 pictures made by a ...</td>\n",
              "      <td>b'Swedish wrestler Ara Abrahamian throws away ...</td>\n",
              "      <td>b'Russia exaggerated the death toll in South O...</td>\n",
              "      <td>b'Missile That Killed 9 Inside Pakistan May Ha...</td>\n",
              "      <td>b\"Rushdie Condemns Random House's Refusal to P...</td>\n",
              "      <td>b'Poland and US agree to missle defense deal. ...</td>\n",
              "      <td>b'Will the Russians conquer Tblisi? Bet on it,...</td>\n",
              "      <td>b'Russia exaggerating South Ossetian death tol...</td>\n",
              "      <td>b' Musharraf expected to resign rather than fa...</td>\n",
              "      <td>b'Moscow Made Plans Months Ago to Invade Georgia'</td>\n",
              "      <td>b'Why Russias response to Georgia was right'</td>\n",
              "      <td>b'Nigeria has handed over the potentially oil-...</td>\n",
              "      <td>b'The US and Poland have agreed a preliminary ...</td>\n",
              "      <td>b'Russia apparently is sabotaging infrastructu...</td>\n",
              "      <td>b'Bank analyst forecast Georgian crisis 2 days...</td>\n",
              "      <td>b\"Georgia confict could set back Russia's US r...</td>\n",
              "      <td>b'War in the Caucasus is as much the product o...</td>\n",
              "      <td>b'\"Non-media\" photos of South Ossetia/Georgia ...</td>\n",
              "      <td>b'Georgian TV reporter shot by Russian sniper ...</td>\n",
              "      <td>b'Saudi Arabia: Mother moves to block child ma...</td>\n",
              "      <td>b'Taliban wages war on humanitarian aid workers'</td>\n",
              "      <td>b'Russia: World  \"can forget about\" Georgia\\'s...</td>\n",
              "      <td>b'Darfur rebels accuse Sudan of mounting major...</td>\n",
              "      <td>b'Philippines : Peace Advocate say Muslims nee...</td>\n",
              "    </tr>\n",
              "  </tbody>\n",
              "</table>\n",
              "</div>"
            ],
            "text/plain": [
              "         Date  ...                                              Top25\n",
              "0  2008-08-08  ...           b\"No Help for Mexico's Kidnapping Surge\"\n",
              "1  2008-08-11  ...  b\"So this is what it's come to: trading sex fo...\n",
              "2  2008-08-12  ...  b\"BBC NEWS | Asia-Pacific | Extinction 'by man...\n",
              "3  2008-08-13  ...  b'2006: Nobel laureate Aleksander Solzhenitsyn...\n",
              "4  2008-08-14  ...  b'Philippines : Peace Advocate say Muslims nee...\n",
              "\n",
              "[5 rows x 27 columns]"
            ]
          },
          "metadata": {},
          "execution_count": 5
        }
      ]
    },
    {
      "cell_type": "code",
      "metadata": {
        "colab": {
          "base_uri": "https://localhost:8080/"
        },
        "id": "JYei7abu_jyH",
        "outputId": "ba0eca52-7282-4d27-f249-7b300946c557"
      },
      "source": [
        "df.info()"
      ],
      "execution_count": null,
      "outputs": [
        {
          "output_type": "stream",
          "name": "stdout",
          "text": [
            "<class 'pandas.core.frame.DataFrame'>\n",
            "RangeIndex: 1989 entries, 0 to 1988\n",
            "Data columns (total 27 columns):\n",
            " #   Column  Non-Null Count  Dtype \n",
            "---  ------  --------------  ----- \n",
            " 0   Date    1989 non-null   object\n",
            " 1   Label   1989 non-null   int64 \n",
            " 2   Top1    1989 non-null   object\n",
            " 3   Top2    1989 non-null   object\n",
            " 4   Top3    1989 non-null   object\n",
            " 5   Top4    1989 non-null   object\n",
            " 6   Top5    1989 non-null   object\n",
            " 7   Top6    1989 non-null   object\n",
            " 8   Top7    1989 non-null   object\n",
            " 9   Top8    1989 non-null   object\n",
            " 10  Top9    1989 non-null   object\n",
            " 11  Top10   1989 non-null   object\n",
            " 12  Top11   1989 non-null   object\n",
            " 13  Top12   1989 non-null   object\n",
            " 14  Top13   1989 non-null   object\n",
            " 15  Top14   1989 non-null   object\n",
            " 16  Top15   1989 non-null   object\n",
            " 17  Top16   1989 non-null   object\n",
            " 18  Top17   1989 non-null   object\n",
            " 19  Top18   1989 non-null   object\n",
            " 20  Top19   1989 non-null   object\n",
            " 21  Top20   1989 non-null   object\n",
            " 22  Top21   1989 non-null   object\n",
            " 23  Top22   1989 non-null   object\n",
            " 24  Top23   1988 non-null   object\n",
            " 25  Top24   1986 non-null   object\n",
            " 26  Top25   1986 non-null   object\n",
            "dtypes: int64(1), object(26)\n",
            "memory usage: 419.7+ KB\n"
          ]
        }
      ]
    },
    {
      "cell_type": "code",
      "metadata": {
        "colab": {
          "base_uri": "https://localhost:8080/"
        },
        "id": "x9w_fHY4_n2U",
        "outputId": "25cc8785-15b0-4d68-8b88-141b4485c429"
      },
      "source": [
        "df.dropna(subset=[\"Top24\",\"Top25\",\"Top23\"],how='any',inplace=True)\n",
        "df.info()"
      ],
      "execution_count": null,
      "outputs": [
        {
          "output_type": "stream",
          "name": "stdout",
          "text": [
            "<class 'pandas.core.frame.DataFrame'>\n",
            "Int64Index: 1986 entries, 0 to 1988\n",
            "Data columns (total 27 columns):\n",
            " #   Column  Non-Null Count  Dtype \n",
            "---  ------  --------------  ----- \n",
            " 0   Date    1986 non-null   object\n",
            " 1   Label   1986 non-null   int64 \n",
            " 2   Top1    1986 non-null   object\n",
            " 3   Top2    1986 non-null   object\n",
            " 4   Top3    1986 non-null   object\n",
            " 5   Top4    1986 non-null   object\n",
            " 6   Top5    1986 non-null   object\n",
            " 7   Top6    1986 non-null   object\n",
            " 8   Top7    1986 non-null   object\n",
            " 9   Top8    1986 non-null   object\n",
            " 10  Top9    1986 non-null   object\n",
            " 11  Top10   1986 non-null   object\n",
            " 12  Top11   1986 non-null   object\n",
            " 13  Top12   1986 non-null   object\n",
            " 14  Top13   1986 non-null   object\n",
            " 15  Top14   1986 non-null   object\n",
            " 16  Top15   1986 non-null   object\n",
            " 17  Top16   1986 non-null   object\n",
            " 18  Top17   1986 non-null   object\n",
            " 19  Top18   1986 non-null   object\n",
            " 20  Top19   1986 non-null   object\n",
            " 21  Top20   1986 non-null   object\n",
            " 22  Top21   1986 non-null   object\n",
            " 23  Top22   1986 non-null   object\n",
            " 24  Top23   1986 non-null   object\n",
            " 25  Top24   1986 non-null   object\n",
            " 26  Top25   1986 non-null   object\n",
            "dtypes: int64(1), object(26)\n",
            "memory usage: 434.4+ KB\n"
          ]
        }
      ]
    },
    {
      "cell_type": "code",
      "metadata": {
        "colab": {
          "base_uri": "https://localhost:8080/",
          "height": 262
        },
        "id": "vjWTZ084BV7A",
        "outputId": "37f4ed64-b606-4742-edd1-58bb8f894c96"
      },
      "source": [
        "df[\"Label\"].value_counts(normalize=True).plot(kind=\"bar\")\n",
        "plt.show()"
      ],
      "execution_count": null,
      "outputs": [
        {
          "output_type": "display_data",
          "data": {
            "image/png": "[encoded data removed]",
            "text/plain": [
              "<Figure size 432x288 with 1 Axes>"
            ]
          },
          "metadata": {
            "needs_background": "light"
          }
        }
      ]
    },
    {
      "cell_type": "code",
      "metadata": {
        "colab": {
          "base_uri": "https://localhost:8080/",
          "height": 712
        },
        "id": "n-098-zvBoYn",
        "outputId": "b217e0bb-0406-464f-d57f-a2b4781fc51a"
      },
      "source": [
        "cols=[\"Date\",\"Label\"]\n",
        "cols=cols+[i for i in range(1,26)]\n",
        "df.columns=cols\n",
        "df.head()"
      ],
      "execution_count": null,
      "outputs": [
        {
          "output_type": "execute_result",
          "data": {
            "text/html": [
              "<div>\n",
              "<style scoped>\n",
              "    .dataframe tbody tr th:only-of-type {\n",
              "        vertical-align: middle;\n",
              "    }\n",
              "\n",
              "    .dataframe tbody tr th {\n",
              "        vertical-align: top;\n",
              "    }\n",
              "\n",
              "    .dataframe thead th {\n",
              "        text-align: right;\n",
              "    }\n",
              "</style>\n",
              "<table border=\"1\" class=\"dataframe\">\n",
              "  <thead>\n",
              "    <tr style=\"text-align: right;\">\n",
              "      <th></th>\n",
              "      <th>Date</th>\n",
              "      <th>Label</th>\n",
              "      <th>1</th>\n",
              "      <th>2</th>\n",
              "      <th>3</th>\n",
              "      <th>4</th>\n",
              "      <th>5</th>\n",
              "      <th>6</th>\n",
              "      <th>7</th>\n",
              "      <th>8</th>\n",
              "      <th>9</th>\n",
              "      <th>10</th>\n",
              "      <th>11</th>\n",
              "      <th>12</th>\n",
              "      <th>13</th>\n",
              "      <th>14</th>\n",
              "      <th>15</th>\n",
              "      <th>16</th>\n",
              "      <th>17</th>\n",
              "      <th>18</th>\n",
              "      <th>19</th>\n",
              "      <th>20</th>\n",
              "      <th>21</th>\n",
              "      <th>22</th>\n",
              "      <th>23</th>\n",
              "      <th>24</th>\n",
              "      <th>25</th>\n",
              "    </tr>\n",
              "  </thead>\n",
              "  <tbody>\n",
              "    <tr>\n",
              "      <th>0</th>\n",
              "      <td>2008-08-08</td>\n",
              "      <td>0</td>\n",
              "      <td>b\"Georgia 'downs two Russian warplanes' as cou...</td>\n",
              "      <td>b'BREAKING: Musharraf to be impeached.'</td>\n",
              "      <td>b'Russia Today: Columns of troops roll into So...</td>\n",
              "      <td>b'Russian tanks are moving towards the capital...</td>\n",
              "      <td>b\"Afghan children raped with 'impunity,' U.N. ...</td>\n",
              "      <td>b'150 Russian tanks have entered South Ossetia...</td>\n",
              "      <td>b\"Breaking: Georgia invades South Ossetia, Rus...</td>\n",
              "      <td>b\"The 'enemy combatent' trials are nothing but...</td>\n",
              "      <td>b'Georgian troops retreat from S. Osettain cap...</td>\n",
              "      <td>b'Did the U.S. Prep Georgia for War with Russia?'</td>\n",
              "      <td>b'Rice Gives Green Light for Israel to Attack ...</td>\n",
              "      <td>b'Announcing:Class Action Lawsuit on Behalf of...</td>\n",
              "      <td>b\"So---Russia and Georgia are at war and the N...</td>\n",
              "      <td>b\"China tells Bush to stay out of other countr...</td>\n",
              "      <td>b'Did World War III start today?'</td>\n",
              "      <td>b'Georgia Invades South Ossetia - if Russia ge...</td>\n",
              "      <td>b'Al-Qaeda Faces Islamist Backlash'</td>\n",
              "      <td>b'Condoleezza Rice: \"The US would not act to p...</td>\n",
              "      <td>b'This is a busy day:  The European Union has ...</td>\n",
              "      <td>b\"Georgia will withdraw 1,000 soldiers from Ir...</td>\n",
              "      <td>b'Why the Pentagon Thinks Attacking Iran is a ...</td>\n",
              "      <td>b'Caucasus in crisis: Georgia invades South Os...</td>\n",
              "      <td>b'Indian shoe manufactory  - And again in a se...</td>\n",
              "      <td>b'Visitors Suffering from Mental Illnesses Ban...</td>\n",
              "      <td>b\"No Help for Mexico's Kidnapping Surge\"</td>\n",
              "    </tr>\n",
              "    <tr>\n",
              "      <th>1</th>\n",
              "      <td>2008-08-11</td>\n",
              "      <td>1</td>\n",
              "      <td>b'Why wont America and Nato help us? If they w...</td>\n",
              "      <td>b'Bush puts foot down on Georgian conflict'</td>\n",
              "      <td>b\"Jewish Georgian minister: Thanks to Israeli ...</td>\n",
              "      <td>b'Georgian army flees in disarray as Russians ...</td>\n",
              "      <td>b\"Olympic opening ceremony fireworks 'faked'\"</td>\n",
              "      <td>b'What were the Mossad with fraudulent New Zea...</td>\n",
              "      <td>b'Russia angered by Israeli military sale to G...</td>\n",
              "      <td>b'An American citizen living in S.Ossetia blam...</td>\n",
              "      <td>b'Welcome To World War IV! Now In High Definit...</td>\n",
              "      <td>b\"Georgia's move, a mistake of monumental prop...</td>\n",
              "      <td>b'Russia presses deeper into Georgia; U.S. say...</td>\n",
              "      <td>b'Abhinav Bindra wins first ever Individual Ol...</td>\n",
              "      <td>b' U.S. ship heads for Arctic to define territ...</td>\n",
              "      <td>b'Drivers in a Jerusalem taxi station threaten...</td>\n",
              "      <td>b'The French Team is Stunned by Phelps and the...</td>\n",
              "      <td>b'Israel and the US behind the Georgian aggres...</td>\n",
              "      <td>b'\"Do not believe TV, neither Russian nor Geor...</td>\n",
              "      <td>b'Riots are still going on in Montreal (Canada...</td>\n",
              "      <td>b'China to overtake US as largest manufacturer'</td>\n",
              "      <td>b'War in South Ossetia [PICS]'</td>\n",
              "      <td>b'Israeli Physicians Group Condemns State Tort...</td>\n",
              "      <td>b' Russia has just beaten the United States ov...</td>\n",
              "      <td>b'Perhaps *the* question about the Georgia - R...</td>\n",
              "      <td>b'Russia is so much better at war'</td>\n",
              "      <td>b\"So this is what it's come to: trading sex fo...</td>\n",
              "    </tr>\n",
              "    <tr>\n",
              "      <th>2</th>\n",
              "      <td>2008-08-12</td>\n",
              "      <td>0</td>\n",
              "      <td>b'Remember that adorable 9-year-old who sang a...</td>\n",
              "      <td>b\"Russia 'ends Georgia operation'\"</td>\n",
              "      <td>b'\"If we had no sexual harassment we would hav...</td>\n",
              "      <td>b\"Al-Qa'eda is losing support in Iraq because ...</td>\n",
              "      <td>b'Ceasefire in Georgia: Putin Outmaneuvers the...</td>\n",
              "      <td>b'Why Microsoft and Intel tried to kill the XO...</td>\n",
              "      <td>b'Stratfor: The Russo-Georgian War and the Bal...</td>\n",
              "      <td>b\"I'm Trying to Get a Sense of This Whole Geor...</td>\n",
              "      <td>b\"The US military was surprised by the timing ...</td>\n",
              "      <td>b'U.S. Beats War Drum as Iran Dumps the Dollar'</td>\n",
              "      <td>b'Gorbachev: \"Georgian military attacked the S...</td>\n",
              "      <td>b'CNN use footage of Tskhinvali ruins to cover...</td>\n",
              "      <td>b'Beginning a war as the Olympics were opening...</td>\n",
              "      <td>b'55 pyramids as large as the Luxor stacked in...</td>\n",
              "      <td>b'The 11 Top Party Cities in the World'</td>\n",
              "      <td>b'U.S. troops still in Georgia (did you know t...</td>\n",
              "      <td>b'Why Russias response to Georgia was right'</td>\n",
              "      <td>b'Gorbachev accuses U.S. of making a \"serious ...</td>\n",
              "      <td>b'Russia, Georgia, and NATO: Cold War Two'</td>\n",
              "      <td>b'Remember that adorable 62-year-old who led y...</td>\n",
              "      <td>b'War in Georgia: The Israeli connection'</td>\n",
              "      <td>b'All signs point to the US encouraging Georgi...</td>\n",
              "      <td>b'Christopher King argues that the US and NATO...</td>\n",
              "      <td>b'America: The New Mexico?'</td>\n",
              "      <td>b\"BBC NEWS | Asia-Pacific | Extinction 'by man...</td>\n",
              "    </tr>\n",
              "    <tr>\n",
              "      <th>3</th>\n",
              "      <td>2008-08-13</td>\n",
              "      <td>0</td>\n",
              "      <td>b' U.S. refuses Israel weapons to attack Iran:...</td>\n",
              "      <td>b\"When the president ordered to attack Tskhinv...</td>\n",
              "      <td>b' Israel clears troops who killed Reuters cam...</td>\n",
              "      <td>b'Britain\\'s policy of being tough on drugs is...</td>\n",
              "      <td>b'Body of 14 year old found in trunk; Latest (...</td>\n",
              "      <td>b'China has moved 10 *million* quake survivors...</td>\n",
              "      <td>b\"Bush announces Operation Get All Up In Russi...</td>\n",
              "      <td>b'Russian forces sink Georgian ships '</td>\n",
              "      <td>b\"The commander of a Navy air reconnaissance s...</td>\n",
              "      <td>b\"92% of CNN readers: Russia's actions in Geor...</td>\n",
              "      <td>b'USA to send fleet into Black Sea to help Geo...</td>\n",
              "      <td>b\"US warns against Israeli plan to strike agai...</td>\n",
              "      <td>b\"In an intriguing cyberalliance, two Estonian...</td>\n",
              "      <td>b'The CNN Effect: Georgia Schools Russia in In...</td>\n",
              "      <td>b'Why Russias response to Georgia was right'</td>\n",
              "      <td>b'Elephants extinct by 2020?'</td>\n",
              "      <td>b'US humanitarian missions soon in Georgia - i...</td>\n",
              "      <td>b\"Georgia's DDOS came from US sources\"</td>\n",
              "      <td>b'Russian convoy heads into Georgia, violating...</td>\n",
              "      <td>b'Israeli defence minister: US against strike ...</td>\n",
              "      <td>b'Gorbachev: We Had No Choice'</td>\n",
              "      <td>b'Witness: Russian forces head towards Tbilisi...</td>\n",
              "      <td>b' Quarter of Russians blame U.S. for conflict...</td>\n",
              "      <td>b'Georgian president  says US military will ta...</td>\n",
              "      <td>b'2006: Nobel laureate Aleksander Solzhenitsyn...</td>\n",
              "    </tr>\n",
              "    <tr>\n",
              "      <th>4</th>\n",
              "      <td>2008-08-14</td>\n",
              "      <td>1</td>\n",
              "      <td>b'All the experts admit that we should legalis...</td>\n",
              "      <td>b'War in South Osetia - 89 pictures made by a ...</td>\n",
              "      <td>b'Swedish wrestler Ara Abrahamian throws away ...</td>\n",
              "      <td>b'Russia exaggerated the death toll in South O...</td>\n",
              "      <td>b'Missile That Killed 9 Inside Pakistan May Ha...</td>\n",
              "      <td>b\"Rushdie Condemns Random House's Refusal to P...</td>\n",
              "      <td>b'Poland and US agree to missle defense deal. ...</td>\n",
              "      <td>b'Will the Russians conquer Tblisi? Bet on it,...</td>\n",
              "      <td>b'Russia exaggerating South Ossetian death tol...</td>\n",
              "      <td>b' Musharraf expected to resign rather than fa...</td>\n",
              "      <td>b'Moscow Made Plans Months Ago to Invade Georgia'</td>\n",
              "      <td>b'Why Russias response to Georgia was right'</td>\n",
              "      <td>b'Nigeria has handed over the potentially oil-...</td>\n",
              "      <td>b'The US and Poland have agreed a preliminary ...</td>\n",
              "      <td>b'Russia apparently is sabotaging infrastructu...</td>\n",
              "      <td>b'Bank analyst forecast Georgian crisis 2 days...</td>\n",
              "      <td>b\"Georgia confict could set back Russia's US r...</td>\n",
              "      <td>b'War in the Caucasus is as much the product o...</td>\n",
              "      <td>b'\"Non-media\" photos of South Ossetia/Georgia ...</td>\n",
              "      <td>b'Georgian TV reporter shot by Russian sniper ...</td>\n",
              "      <td>b'Saudi Arabia: Mother moves to block child ma...</td>\n",
              "      <td>b'Taliban wages war on humanitarian aid workers'</td>\n",
              "      <td>b'Russia: World  \"can forget about\" Georgia\\'s...</td>\n",
              "      <td>b'Darfur rebels accuse Sudan of mounting major...</td>\n",
              "      <td>b'Philippines : Peace Advocate say Muslims nee...</td>\n",
              "    </tr>\n",
              "  </tbody>\n",
              "</table>\n",
              "</div>"
            ],
            "text/plain": [
              "         Date  ...                                                 25\n",
              "0  2008-08-08  ...           b\"No Help for Mexico's Kidnapping Surge\"\n",
              "1  2008-08-11  ...  b\"So this is what it's come to: trading sex fo...\n",
              "2  2008-08-12  ...  b\"BBC NEWS | Asia-Pacific | Extinction 'by man...\n",
              "3  2008-08-13  ...  b'2006: Nobel laureate Aleksander Solzhenitsyn...\n",
              "4  2008-08-14  ...  b'Philippines : Peace Advocate say Muslims nee...\n",
              "\n",
              "[5 rows x 27 columns]"
            ]
          },
          "metadata": {},
          "execution_count": 9
        }
      ]
    },
    {
      "cell_type": "code",
      "metadata": {
        "colab": {
          "base_uri": "https://localhost:8080/",
          "height": 35
        },
        "id": "LcLh4-F_INOP",
        "outputId": "cae89a03-643b-48fb-ad0a-82e7611ea5d4"
      },
      "source": [
        "df[1][2]"
      ],
      "execution_count": null,
      "outputs": [
        {
          "output_type": "execute_result",
          "data": {
            "application/vnd.google.colaboratory.intrinsic+json": {
              "type": "string"
            },
            "text/plain": [
              "\"b'Remember that adorable 9-year-old who sang at the opening ceremonies? That was fake, too.'\""
            ]
          },
          "metadata": {},
          "execution_count": 10
        }
      ]
    },
    {
      "cell_type": "code",
      "metadata": {
        "id": "rlsoCWGmIaMR"
      },
      "source": [
        "df.index=[i for i in range(1986)]"
      ],
      "execution_count": null,
      "outputs": []
    },
    {
      "cell_type": "code",
      "metadata": {
        "colab": {
          "base_uri": "https://localhost:8080/"
        },
        "id": "4msT_VqqIxmz",
        "outputId": "23ca3f95-9fcb-4314-d4ad-63d72b9cc843"
      },
      "source": [
        "df.info()"
      ],
      "execution_count": null,
      "outputs": [
        {
          "output_type": "stream",
          "name": "stdout",
          "text": [
            "<class 'pandas.core.frame.DataFrame'>\n",
            "Int64Index: 1986 entries, 0 to 1985\n",
            "Data columns (total 27 columns):\n",
            " #   Column  Non-Null Count  Dtype \n",
            "---  ------  --------------  ----- \n",
            " 0   Date    1986 non-null   object\n",
            " 1   Label   1986 non-null   int64 \n",
            " 2   1       1986 non-null   object\n",
            " 3   2       1986 non-null   object\n",
            " 4   3       1986 non-null   object\n",
            " 5   4       1986 non-null   object\n",
            " 6   5       1986 non-null   object\n",
            " 7   6       1986 non-null   object\n",
            " 8   7       1986 non-null   object\n",
            " 9   8       1986 non-null   object\n",
            " 10  9       1986 non-null   object\n",
            " 11  10      1986 non-null   object\n",
            " 12  11      1986 non-null   object\n",
            " 13  12      1986 non-null   object\n",
            " 14  13      1986 non-null   object\n",
            " 15  14      1986 non-null   object\n",
            " 16  15      1986 non-null   object\n",
            " 17  16      1986 non-null   object\n",
            " 18  17      1986 non-null   object\n",
            " 19  18      1986 non-null   object\n",
            " 20  19      1986 non-null   object\n",
            " 21  20      1986 non-null   object\n",
            " 22  21      1986 non-null   object\n",
            " 23  22      1986 non-null   object\n",
            " 24  23      1986 non-null   object\n",
            " 25  24      1986 non-null   object\n",
            " 26  25      1986 non-null   object\n",
            "dtypes: int64(1), object(26)\n",
            "memory usage: 434.4+ KB\n"
          ]
        }
      ]
    },
    {
      "cell_type": "code",
      "metadata": {
        "colab": {
          "base_uri": "https://localhost:8080/",
          "height": 1000
        },
        "id": "9pCxmO1cxcHR",
        "outputId": "e4778ffb-3b00-402b-bd55-c1dfa94411b0"
      },
      "source": [
        "df.iloc[:,2:27]"
      ],
      "execution_count": null,
      "outputs": [
        {
          "output_type": "execute_result",
          "data": {
            "text/html": [
              "<div>\n",
              "<style scoped>\n",
              "    .dataframe tbody tr th:only-of-type {\n",
              "        vertical-align: middle;\n",
              "    }\n",
              "\n",
              "    .dataframe tbody tr th {\n",
              "        vertical-align: top;\n",
              "    }\n",
              "\n",
              "    .dataframe thead th {\n",
              "        text-align: right;\n",
              "    }\n",
              "</style>\n",
              "<table border=\"1\" class=\"dataframe\">\n",
              "  <thead>\n",
              "    <tr style=\"text-align: right;\">\n",
              "      <th></th>\n",
              "      <th>1</th>\n",
              "      <th>2</th>\n",
              "      <th>3</th>\n",
              "      <th>4</th>\n",
              "      <th>5</th>\n",
              "      <th>6</th>\n",
              "      <th>7</th>\n",
              "      <th>8</th>\n",
              "      <th>9</th>\n",
              "      <th>10</th>\n",
              "      <th>11</th>\n",
              "      <th>12</th>\n",
              "      <th>13</th>\n",
              "      <th>14</th>\n",
              "      <th>15</th>\n",
              "      <th>16</th>\n",
              "      <th>17</th>\n",
              "      <th>18</th>\n",
              "      <th>19</th>\n",
              "      <th>20</th>\n",
              "      <th>21</th>\n",
              "      <th>22</th>\n",
              "      <th>23</th>\n",
              "      <th>24</th>\n",
              "      <th>25</th>\n",
              "    </tr>\n",
              "  </thead>\n",
              "  <tbody>\n",
              "    <tr>\n",
              "      <th>0</th>\n",
              "      <td>b\"Georgia 'downs two Russian warplanes' as cou...</td>\n",
              "      <td>b'BREAKING: Musharraf to be impeached.'</td>\n",
              "      <td>b'Russia Today: Columns of troops roll into So...</td>\n",
              "      <td>b'Russian tanks are moving towards the capital...</td>\n",
              "      <td>b\"Afghan children raped with 'impunity,' U.N. ...</td>\n",
              "      <td>b'150 Russian tanks have entered South Ossetia...</td>\n",
              "      <td>b\"Breaking: Georgia invades South Ossetia, Rus...</td>\n",
              "      <td>b\"The 'enemy combatent' trials are nothing but...</td>\n",
              "      <td>b'Georgian troops retreat from S. Osettain cap...</td>\n",
              "      <td>b'Did the U.S. Prep Georgia for War with Russia?'</td>\n",
              "      <td>b'Rice Gives Green Light for Israel to Attack ...</td>\n",
              "      <td>b'Announcing:Class Action Lawsuit on Behalf of...</td>\n",
              "      <td>b\"So---Russia and Georgia are at war and the N...</td>\n",
              "      <td>b\"China tells Bush to stay out of other countr...</td>\n",
              "      <td>b'Did World War III start today?'</td>\n",
              "      <td>b'Georgia Invades South Ossetia - if Russia ge...</td>\n",
              "      <td>b'Al-Qaeda Faces Islamist Backlash'</td>\n",
              "      <td>b'Condoleezza Rice: \"The US would not act to p...</td>\n",
              "      <td>b'This is a busy day:  The European Union has ...</td>\n",
              "      <td>b\"Georgia will withdraw 1,000 soldiers from Ir...</td>\n",
              "      <td>b'Why the Pentagon Thinks Attacking Iran is a ...</td>\n",
              "      <td>b'Caucasus in crisis: Georgia invades South Os...</td>\n",
              "      <td>b'Indian shoe manufactory  - And again in a se...</td>\n",
              "      <td>b'Visitors Suffering from Mental Illnesses Ban...</td>\n",
              "      <td>b\"No Help for Mexico's Kidnapping Surge\"</td>\n",
              "    </tr>\n",
              "    <tr>\n",
              "      <th>1</th>\n",
              "      <td>b'Why wont America and Nato help us? If they w...</td>\n",
              "      <td>b'Bush puts foot down on Georgian conflict'</td>\n",
              "      <td>b\"Jewish Georgian minister: Thanks to Israeli ...</td>\n",
              "      <td>b'Georgian army flees in disarray as Russians ...</td>\n",
              "      <td>b\"Olympic opening ceremony fireworks 'faked'\"</td>\n",
              "      <td>b'What were the Mossad with fraudulent New Zea...</td>\n",
              "      <td>b'Russia angered by Israeli military sale to G...</td>\n",
              "      <td>b'An American citizen living in S.Ossetia blam...</td>\n",
              "      <td>b'Welcome To World War IV! Now In High Definit...</td>\n",
              "      <td>b\"Georgia's move, a mistake of monumental prop...</td>\n",
              "      <td>b'Russia presses deeper into Georgia; U.S. say...</td>\n",
              "      <td>b'Abhinav Bindra wins first ever Individual Ol...</td>\n",
              "      <td>b' U.S. ship heads for Arctic to define territ...</td>\n",
              "      <td>b'Drivers in a Jerusalem taxi station threaten...</td>\n",
              "      <td>b'The French Team is Stunned by Phelps and the...</td>\n",
              "      <td>b'Israel and the US behind the Georgian aggres...</td>\n",
              "      <td>b'\"Do not believe TV, neither Russian nor Geor...</td>\n",
              "      <td>b'Riots are still going on in Montreal (Canada...</td>\n",
              "      <td>b'China to overtake US as largest manufacturer'</td>\n",
              "      <td>b'War in South Ossetia [PICS]'</td>\n",
              "      <td>b'Israeli Physicians Group Condemns State Tort...</td>\n",
              "      <td>b' Russia has just beaten the United States ov...</td>\n",
              "      <td>b'Perhaps *the* question about the Georgia - R...</td>\n",
              "      <td>b'Russia is so much better at war'</td>\n",
              "      <td>b\"So this is what it's come to: trading sex fo...</td>\n",
              "    </tr>\n",
              "    <tr>\n",
              "      <th>2</th>\n",
              "      <td>b'Remember that adorable 9-year-old who sang a...</td>\n",
              "      <td>b\"Russia 'ends Georgia operation'\"</td>\n",
              "      <td>b'\"If we had no sexual harassment we would hav...</td>\n",
              "      <td>b\"Al-Qa'eda is losing support in Iraq because ...</td>\n",
              "      <td>b'Ceasefire in Georgia: Putin Outmaneuvers the...</td>\n",
              "      <td>b'Why Microsoft and Intel tried to kill the XO...</td>\n",
              "      <td>b'Stratfor: The Russo-Georgian War and the Bal...</td>\n",
              "      <td>b\"I'm Trying to Get a Sense of This Whole Geor...</td>\n",
              "      <td>b\"The US military was surprised by the timing ...</td>\n",
              "      <td>b'U.S. Beats War Drum as Iran Dumps the Dollar'</td>\n",
              "      <td>b'Gorbachev: \"Georgian military attacked the S...</td>\n",
              "      <td>b'CNN use footage of Tskhinvali ruins to cover...</td>\n",
              "      <td>b'Beginning a war as the Olympics were opening...</td>\n",
              "      <td>b'55 pyramids as large as the Luxor stacked in...</td>\n",
              "      <td>b'The 11 Top Party Cities in the World'</td>\n",
              "      <td>b'U.S. troops still in Georgia (did you know t...</td>\n",
              "      <td>b'Why Russias response to Georgia was right'</td>\n",
              "      <td>b'Gorbachev accuses U.S. of making a \"serious ...</td>\n",
              "      <td>b'Russia, Georgia, and NATO: Cold War Two'</td>\n",
              "      <td>b'Remember that adorable 62-year-old who led y...</td>\n",
              "      <td>b'War in Georgia: The Israeli connection'</td>\n",
              "      <td>b'All signs point to the US encouraging Georgi...</td>\n",
              "      <td>b'Christopher King argues that the US and NATO...</td>\n",
              "      <td>b'America: The New Mexico?'</td>\n",
              "      <td>b\"BBC NEWS | Asia-Pacific | Extinction 'by man...</td>\n",
              "    </tr>\n",
              "    <tr>\n",
              "      <th>3</th>\n",
              "      <td>b' U.S. refuses Israel weapons to attack Iran:...</td>\n",
              "      <td>b\"When the president ordered to attack Tskhinv...</td>\n",
              "      <td>b' Israel clears troops who killed Reuters cam...</td>\n",
              "      <td>b'Britain\\'s policy of being tough on drugs is...</td>\n",
              "      <td>b'Body of 14 year old found in trunk; Latest (...</td>\n",
              "      <td>b'China has moved 10 *million* quake survivors...</td>\n",
              "      <td>b\"Bush announces Operation Get All Up In Russi...</td>\n",
              "      <td>b'Russian forces sink Georgian ships '</td>\n",
              "      <td>b\"The commander of a Navy air reconnaissance s...</td>\n",
              "      <td>b\"92% of CNN readers: Russia's actions in Geor...</td>\n",
              "      <td>b'USA to send fleet into Black Sea to help Geo...</td>\n",
              "      <td>b\"US warns against Israeli plan to strike agai...</td>\n",
              "      <td>b\"In an intriguing cyberalliance, two Estonian...</td>\n",
              "      <td>b'The CNN Effect: Georgia Schools Russia in In...</td>\n",
              "      <td>b'Why Russias response to Georgia was right'</td>\n",
              "      <td>b'Elephants extinct by 2020?'</td>\n",
              "      <td>b'US humanitarian missions soon in Georgia - i...</td>\n",
              "      <td>b\"Georgia's DDOS came from US sources\"</td>\n",
              "      <td>b'Russian convoy heads into Georgia, violating...</td>\n",
              "      <td>b'Israeli defence minister: US against strike ...</td>\n",
              "      <td>b'Gorbachev: We Had No Choice'</td>\n",
              "      <td>b'Witness: Russian forces head towards Tbilisi...</td>\n",
              "      <td>b' Quarter of Russians blame U.S. for conflict...</td>\n",
              "      <td>b'Georgian president  says US military will ta...</td>\n",
              "      <td>b'2006: Nobel laureate Aleksander Solzhenitsyn...</td>\n",
              "    </tr>\n",
              "    <tr>\n",
              "      <th>4</th>\n",
              "      <td>b'All the experts admit that we should legalis...</td>\n",
              "      <td>b'War in South Osetia - 89 pictures made by a ...</td>\n",
              "      <td>b'Swedish wrestler Ara Abrahamian throws away ...</td>\n",
              "      <td>b'Russia exaggerated the death toll in South O...</td>\n",
              "      <td>b'Missile That Killed 9 Inside Pakistan May Ha...</td>\n",
              "      <td>b\"Rushdie Condemns Random House's Refusal to P...</td>\n",
              "      <td>b'Poland and US agree to missle defense deal. ...</td>\n",
              "      <td>b'Will the Russians conquer Tblisi? Bet on it,...</td>\n",
              "      <td>b'Russia exaggerating South Ossetian death tol...</td>\n",
              "      <td>b' Musharraf expected to resign rather than fa...</td>\n",
              "      <td>b'Moscow Made Plans Months Ago to Invade Georgia'</td>\n",
              "      <td>b'Why Russias response to Georgia was right'</td>\n",
              "      <td>b'Nigeria has handed over the potentially oil-...</td>\n",
              "      <td>b'The US and Poland have agreed a preliminary ...</td>\n",
              "      <td>b'Russia apparently is sabotaging infrastructu...</td>\n",
              "      <td>b'Bank analyst forecast Georgian crisis 2 days...</td>\n",
              "      <td>b\"Georgia confict could set back Russia's US r...</td>\n",
              "      <td>b'War in the Caucasus is as much the product o...</td>\n",
              "      <td>b'\"Non-media\" photos of South Ossetia/Georgia ...</td>\n",
              "      <td>b'Georgian TV reporter shot by Russian sniper ...</td>\n",
              "      <td>b'Saudi Arabia: Mother moves to block child ma...</td>\n",
              "      <td>b'Taliban wages war on humanitarian aid workers'</td>\n",
              "      <td>b'Russia: World  \"can forget about\" Georgia\\'s...</td>\n",
              "      <td>b'Darfur rebels accuse Sudan of mounting major...</td>\n",
              "      <td>b'Philippines : Peace Advocate say Muslims nee...</td>\n",
              "    </tr>\n",
              "    <tr>\n",
              "      <th>...</th>\n",
              "      <td>...</td>\n",
              "      <td>...</td>\n",
              "      <td>...</td>\n",
              "      <td>...</td>\n",
              "      <td>...</td>\n",
              "      <td>...</td>\n",
              "      <td>...</td>\n",
              "      <td>...</td>\n",
              "      <td>...</td>\n",
              "      <td>...</td>\n",
              "      <td>...</td>\n",
              "      <td>...</td>\n",
              "      <td>...</td>\n",
              "      <td>...</td>\n",
              "      <td>...</td>\n",
              "      <td>...</td>\n",
              "      <td>...</td>\n",
              "      <td>...</td>\n",
              "      <td>...</td>\n",
              "      <td>...</td>\n",
              "      <td>...</td>\n",
              "      <td>...</td>\n",
              "      <td>...</td>\n",
              "      <td>...</td>\n",
              "      <td>...</td>\n",
              "    </tr>\n",
              "    <tr>\n",
              "      <th>1981</th>\n",
              "      <td>Barclays and RBS shares suspended from trading...</td>\n",
              "      <td>Pope says Church should ask forgiveness from g...</td>\n",
              "      <td>Poland 'shocked' by xenophobic abuse of Poles ...</td>\n",
              "      <td>There will be no second referendum, cabinet ag...</td>\n",
              "      <td>Scotland welcome to join EU, Merkel ally says</td>\n",
              "      <td>Sterling dips below Friday's 31-year low amid ...</td>\n",
              "      <td>No negative news about South African President...</td>\n",
              "      <td>Surge in Hate Crimes in the U.K. Following U.K...</td>\n",
              "      <td>Weapons shipped into Jordan by the CIA and Sau...</td>\n",
              "      <td>Angela Merkel said the U.K. must file exit pap...</td>\n",
              "      <td>In a birth offering hope to a threatened speci...</td>\n",
              "      <td>Sky News Journalist Left Speechless As Leave M...</td>\n",
              "      <td>Giant panda in Macau gives birth to twins</td>\n",
              "      <td>Get out now: EU leader tells Britain it must i...</td>\n",
              "      <td>Sea turtle 'beaten and left for dead' on beach...</td>\n",
              "      <td>German lawyers to probe Erdogan over alleged w...</td>\n",
              "      <td>Boris Johnson says the UK will continue to \"in...</td>\n",
              "      <td>Richard Branson is calling on the UK governmen...</td>\n",
              "      <td>Turkey 'sorry for downing Russian jet'</td>\n",
              "      <td>Edward Snowden lawyer vows new push for pardon...</td>\n",
              "      <td>Brexit opinion poll reveals majority don't wan...</td>\n",
              "      <td>Conservative MP Leave Campaigner: \"The leave c...</td>\n",
              "      <td>Economists predict UK recession, further weake...</td>\n",
              "      <td>New EU 'superstate plan by France, Germany: Cr...</td>\n",
              "      <td>Pakistani clerics declare transgender marriage...</td>\n",
              "    </tr>\n",
              "    <tr>\n",
              "      <th>1982</th>\n",
              "      <td>2,500 Scientists To Australia: If You Want To ...</td>\n",
              "      <td>The personal details of 112,000 French police ...</td>\n",
              "      <td>S&amp;amp;P cuts United Kingdom sovereign credit r...</td>\n",
              "      <td>Huge helium deposit found in Africa</td>\n",
              "      <td>CEO of the South African state broadcaster qui...</td>\n",
              "      <td>Brexit cost investors $2 trillion, the worst o...</td>\n",
              "      <td>Hong Kong democracy activists call for return ...</td>\n",
              "      <td>Brexit: Iceland president says UK can join 'tr...</td>\n",
              "      <td>UK's Osborne: 'Absolutely' going to have to cu...</td>\n",
              "      <td>'Do not let Scotland down now' : Scottish MEP ...</td>\n",
              "      <td>British pound could hit history-making dollar ...</td>\n",
              "      <td>Merkel vows to strengthen EU, tells UK no 'che...</td>\n",
              "      <td>\"Ryanair will not deploy new aircraft on route...</td>\n",
              "      <td>People, ever more greedy and stupid, destroy t...</td>\n",
              "      <td>Siemens freezes new UK wind power investment f...</td>\n",
              "      <td>US, Canada and Mexico pledge 50% of power from...</td>\n",
              "      <td>There is increasing evidence that Australia is...</td>\n",
              "      <td>Richard Branson, the founder of Virgin Group, ...</td>\n",
              "      <td>37,000-yr-old skull from Borneo reveals surpri...</td>\n",
              "      <td>Palestinians stone Western Wall worshipers; po...</td>\n",
              "      <td>Jean-Claude Juncker asks Farage: Why are you h...</td>\n",
              "      <td>\"Romanians for Remainians\" offering a new home...</td>\n",
              "      <td>Brexit: Gibraltar in talks with Scotland to st...</td>\n",
              "      <td>8 Suicide Bombers Strike Lebanon</td>\n",
              "      <td>Mexico's security forces routinely use 'sexual...</td>\n",
              "    </tr>\n",
              "    <tr>\n",
              "      <th>1983</th>\n",
              "      <td>Explosion At Airport In Istanbul</td>\n",
              "      <td>Yemeni former president: Terrorism is the offs...</td>\n",
              "      <td>UK must accept freedom of movement to access E...</td>\n",
              "      <td>Devastated: scientists too late to captive bre...</td>\n",
              "      <td>British Labor Party leader Jeremy Corbyn loses...</td>\n",
              "      <td>A Muslim Shop in the UK Was Just Firebombed Wh...</td>\n",
              "      <td>Mexican Authorities Sexually Torture Women in ...</td>\n",
              "      <td>UK shares and pound continue to recover</td>\n",
              "      <td>Iceland historian Johannesson wins presidentia...</td>\n",
              "      <td>99-Million-Yr-Old Bird Wings Found Encased in ...</td>\n",
              "      <td>A chatbot programmed by a British teenager has...</td>\n",
              "      <td>The Philippine president-elect said Monday he ...</td>\n",
              "      <td>Former Belgian Prime Minister ridicules Nigel ...</td>\n",
              "      <td>Brexiteer Nigel Farage To EU: 'You're Not Laug...</td>\n",
              "      <td>Islamic State bombings in southern Yemen kill ...</td>\n",
              "      <td>Escape Tunnel, Dug by Hand, Is Found at Holoca...</td>\n",
              "      <td>The land under Beijing is sinking by as much a...</td>\n",
              "      <td>Car bomb and Anti-Islamic attack on Mosque in ...</td>\n",
              "      <td>Emaciated lions in Taiz Zoo are trapped in blo...</td>\n",
              "      <td>Rupert Murdoch describes Brexit as 'wonderful'...</td>\n",
              "      <td>More than 40 killed in Yemen suicide attacks</td>\n",
              "      <td>Google Found Disastrous Symantec and Norton Vu...</td>\n",
              "      <td>Extremist violence on the rise in Germany: Dom...</td>\n",
              "      <td>BBC News: Labour MPs pass Corbyn no-confidence...</td>\n",
              "      <td>Tiny New Zealand town with 'too many jobs' lau...</td>\n",
              "    </tr>\n",
              "    <tr>\n",
              "      <th>1984</th>\n",
              "      <td>Jamaica proposes marijuana dispensers for tour...</td>\n",
              "      <td>Stephen Hawking says pollution and 'stupidity'...</td>\n",
              "      <td>Boris Johnson says he will not run for Tory pa...</td>\n",
              "      <td>Six gay men in Ivory Coast were abused and for...</td>\n",
              "      <td>Switzerland denies citizenship to Muslim immig...</td>\n",
              "      <td>Palestinian terrorist stabs israeli teen girl ...</td>\n",
              "      <td>Puerto Rico will default on $1 billion of debt...</td>\n",
              "      <td>Republic of Ireland fans to be awarded medal f...</td>\n",
              "      <td>Afghan suicide bomber 'kills up to 40' - BBC News</td>\n",
              "      <td>US airstrikes kill at least 250 ISIS fighters ...</td>\n",
              "      <td>Turkish Cop Who Took Down Istanbul Gunman Hail...</td>\n",
              "      <td>Cannabis compounds could treat Alzheimer's by ...</td>\n",
              "      <td>Japan's top court has approved blanket surveil...</td>\n",
              "      <td>CIA Gave Romania Millions to Host Secret Prisons</td>\n",
              "      <td>Groups urge U.N. to suspend Saudi Arabia from ...</td>\n",
              "      <td>Googles free wifi at Indian railway stations i...</td>\n",
              "      <td>Mounting evidence suggests 'hobbits' were wipe...</td>\n",
              "      <td>The men who carried out Tuesday's terror attac...</td>\n",
              "      <td>Calls to suspend Saudi Arabia from UN Human Ri...</td>\n",
              "      <td>More Than 100 Nobel Laureates Call Out Greenpe...</td>\n",
              "      <td>British pedophile sentenced to 85 years in US ...</td>\n",
              "      <td>US permitted 1,200 offshore fracks in Gulf of ...</td>\n",
              "      <td>We will be swimming in ridicule - French beach...</td>\n",
              "      <td>UEFA says no minutes of silence for Istanbul v...</td>\n",
              "      <td>Law Enforcement Sources: Gun Used in Paris Ter...</td>\n",
              "    </tr>\n",
              "    <tr>\n",
              "      <th>1985</th>\n",
              "      <td>A 117-year-old woman in Mexico City finally re...</td>\n",
              "      <td>IMF chief backs Athens as permanent Olympic host</td>\n",
              "      <td>The president of France says if Brexit won, so...</td>\n",
              "      <td>British Man Who Must Give Police 24 Hours' Not...</td>\n",
              "      <td>100+ Nobel laureates urge Greenpeace to stop o...</td>\n",
              "      <td>Brazil: Huge spike in number of police killing...</td>\n",
              "      <td>Austria's highest court annuls presidential el...</td>\n",
              "      <td>Facebook wins privacy case, can track any Belg...</td>\n",
              "      <td>Switzerland denies Muslim girls citizenship af...</td>\n",
              "      <td>China kills millions of innocent meditators fo...</td>\n",
              "      <td>France Cracks Down on Factory Farms - A viral ...</td>\n",
              "      <td>Abbas PLO Faction Calls Killer of 13-Year-Old ...</td>\n",
              "      <td>Taiwanese warship accidentally fires missile t...</td>\n",
              "      <td>Iran celebrates American Human Rights Week, mo...</td>\n",
              "      <td>U.N. panel moves to curb bias against L.G.B.T....</td>\n",
              "      <td>The United States has placed Myanmar, Uzbekist...</td>\n",
              "      <td>S&amp;amp;P revises European Union credit rating t...</td>\n",
              "      <td>India gets $1 billion loan from World Bank for...</td>\n",
              "      <td>U.S. sailors detained by Iran spoke too much u...</td>\n",
              "      <td>Mass fish kill in Vietnam solved as Taiwan ste...</td>\n",
              "      <td>Philippines president Rodrigo Duterte urges pe...</td>\n",
              "      <td>Spain arrests three Pakistanis accused of prom...</td>\n",
              "      <td>Venezuela, where anger over food shortages is ...</td>\n",
              "      <td>A Hindu temple worker has been killed by three...</td>\n",
              "      <td>Ozone layer hole seems to be healing - US &amp;amp...</td>\n",
              "    </tr>\n",
              "  </tbody>\n",
              "</table>\n",
              "<p>1986 rows × 25 columns</p>\n",
              "</div>"
            ],
            "text/plain": [
              "                                                     1   ...                                                 25\n",
              "0     b\"Georgia 'downs two Russian warplanes' as cou...  ...           b\"No Help for Mexico's Kidnapping Surge\"\n",
              "1     b'Why wont America and Nato help us? If they w...  ...  b\"So this is what it's come to: trading sex fo...\n",
              "2     b'Remember that adorable 9-year-old who sang a...  ...  b\"BBC NEWS | Asia-Pacific | Extinction 'by man...\n",
              "3     b' U.S. refuses Israel weapons to attack Iran:...  ...  b'2006: Nobel laureate Aleksander Solzhenitsyn...\n",
              "4     b'All the experts admit that we should legalis...  ...  b'Philippines : Peace Advocate say Muslims nee...\n",
              "...                                                 ...  ...                                                ...\n",
              "1981  Barclays and RBS shares suspended from trading...  ...  Pakistani clerics declare transgender marriage...\n",
              "1982  2,500 Scientists To Australia: If You Want To ...  ...  Mexico's security forces routinely use 'sexual...\n",
              "1983                   Explosion At Airport In Istanbul  ...  Tiny New Zealand town with 'too many jobs' lau...\n",
              "1984  Jamaica proposes marijuana dispensers for tour...  ...  Law Enforcement Sources: Gun Used in Paris Ter...\n",
              "1985  A 117-year-old woman in Mexico City finally re...  ...  Ozone layer hole seems to be healing - US &amp...\n",
              "\n",
              "[1986 rows x 25 columns]"
            ]
          },
          "metadata": {},
          "execution_count": 13
        }
      ]
    },
    {
      "cell_type": "code",
      "metadata": {
        "colab": {
          "base_uri": "https://localhost:8080/",
          "height": 1000
        },
        "id": "PAAywwWwIyyF",
        "outputId": "5307e46a-d73c-45d6-f163-6f90394716d2"
      },
      "source": [
        "for i in range(1,26):\n",
        "  for j in range(1986):\n",
        "    df[i][j]=str(df[i][j])\n",
        "    df[i][j]=df[i][j][1:]\n",
        "    df[i][j]=re.sub(\"[^a-zA-Z]\",\" \",df[i][j])\n",
        "    df[i][j]=df[i][j].lower()\n",
        "df.head()"
      ],
      "execution_count": null,
      "outputs": [
        {
          "output_type": "stream",
          "name": "stderr",
          "text": [
            "/usr/local/lib/python3.7/dist-packages/ipykernel_launcher.py:3: SettingWithCopyWarning: \n",
            "A value is trying to be set on a copy of a slice from a DataFrame\n",
            "\n",
            "See the caveats in the documentation: https://pandas.pydata.org/pandas-docs/stable/user_guide/indexing.html#returning-a-view-versus-a-copy\n",
            "  This is separate from the ipykernel package so we can avoid doing imports until\n",
            "/usr/local/lib/python3.7/dist-packages/ipykernel_launcher.py:4: SettingWithCopyWarning: \n",
            "A value is trying to be set on a copy of a slice from a DataFrame\n",
            "\n",
            "See the caveats in the documentation: https://pandas.pydata.org/pandas-docs/stable/user_guide/indexing.html#returning-a-view-versus-a-copy\n",
            "  after removing the cwd from sys.path.\n",
            "/usr/local/lib/python3.7/dist-packages/ipykernel_launcher.py:5: SettingWithCopyWarning: \n",
            "A value is trying to be set on a copy of a slice from a DataFrame\n",
            "\n",
            "See the caveats in the documentation: https://pandas.pydata.org/pandas-docs/stable/user_guide/indexing.html#returning-a-view-versus-a-copy\n",
            "  \"\"\"\n",
            "/usr/local/lib/python3.7/dist-packages/ipykernel_launcher.py:6: SettingWithCopyWarning: \n",
            "A value is trying to be set on a copy of a slice from a DataFrame\n",
            "\n",
            "See the caveats in the documentation: https://pandas.pydata.org/pandas-docs/stable/user_guide/indexing.html#returning-a-view-versus-a-copy\n",
            "  \n"
          ]
        },
        {
          "output_type": "execute_result",
          "data": {
            "text/html": [
              "<div>\n",
              "<style scoped>\n",
              "    .dataframe tbody tr th:only-of-type {\n",
              "        vertical-align: middle;\n",
              "    }\n",
              "\n",
              "    .dataframe tbody tr th {\n",
              "        vertical-align: top;\n",
              "    }\n",
              "\n",
              "    .dataframe thead th {\n",
              "        text-align: right;\n",
              "    }\n",
              "</style>\n",
              "<table border=\"1\" class=\"dataframe\">\n",
              "  <thead>\n",
              "    <tr style=\"text-align: right;\">\n",
              "      <th></th>\n",
              "      <th>Date</th>\n",
              "      <th>Label</th>\n",
              "      <th>1</th>\n",
              "      <th>2</th>\n",
              "      <th>3</th>\n",
              "      <th>4</th>\n",
              "      <th>5</th>\n",
              "      <th>6</th>\n",
              "      <th>7</th>\n",
              "      <th>8</th>\n",
              "      <th>9</th>\n",
              "      <th>10</th>\n",
              "      <th>11</th>\n",
              "      <th>12</th>\n",
              "      <th>13</th>\n",
              "      <th>14</th>\n",
              "      <th>15</th>\n",
              "      <th>16</th>\n",
              "      <th>17</th>\n",
              "      <th>18</th>\n",
              "      <th>19</th>\n",
              "      <th>20</th>\n",
              "      <th>21</th>\n",
              "      <th>22</th>\n",
              "      <th>23</th>\n",
              "      <th>24</th>\n",
              "      <th>25</th>\n",
              "    </tr>\n",
              "  </thead>\n",
              "  <tbody>\n",
              "    <tr>\n",
              "      <th>0</th>\n",
              "      <td>2008-08-08</td>\n",
              "      <td>0</td>\n",
              "      <td>georgia  downs two russian warplanes  as coun...</td>\n",
              "      <td>breaking  musharraf to be impeached</td>\n",
              "      <td>russia today  columns of troops roll into sou...</td>\n",
              "      <td>russian tanks are moving towards the capital ...</td>\n",
              "      <td>afghan children raped with  impunity   u n  o...</td>\n",
              "      <td>russian tanks have entered south ossetia ...</td>\n",
              "      <td>breaking  georgia invades south ossetia  russ...</td>\n",
              "      <td>the  enemy combatent  trials are nothing but ...</td>\n",
              "      <td>georgian troops retreat from s  osettain capi...</td>\n",
              "      <td>did the u s  prep georgia for war with russia</td>\n",
              "      <td>rice gives green light for israel to attack i...</td>\n",
              "      <td>announcing class action lawsuit on behalf of ...</td>\n",
              "      <td>so   russia and georgia are at war and the ny...</td>\n",
              "      <td>china tells bush to stay out of other countri...</td>\n",
              "      <td>did world war iii start today</td>\n",
              "      <td>georgia invades south ossetia   if russia get...</td>\n",
              "      <td>al qaeda faces islamist backlash</td>\n",
              "      <td>condoleezza rice   the us would not act to pr...</td>\n",
              "      <td>this is a busy day   the european union has a...</td>\n",
              "      <td>georgia will withdraw       soldiers from ira...</td>\n",
              "      <td>why the pentagon thinks attacking iran is a b...</td>\n",
              "      <td>caucasus in crisis  georgia invades south oss...</td>\n",
              "      <td>indian shoe manufactory    and again in a ser...</td>\n",
              "      <td>visitors suffering from mental illnesses bann...</td>\n",
              "      <td>no help for mexico s kidnapping surge</td>\n",
              "    </tr>\n",
              "    <tr>\n",
              "      <th>1</th>\n",
              "      <td>2008-08-11</td>\n",
              "      <td>1</td>\n",
              "      <td>why wont america and nato help us  if they wo...</td>\n",
              "      <td>bush puts foot down on georgian conflict</td>\n",
              "      <td>jewish georgian minister  thanks to israeli t...</td>\n",
              "      <td>georgian army flees in disarray as russians a...</td>\n",
              "      <td>olympic opening ceremony fireworks  faked</td>\n",
              "      <td>what were the mossad with fraudulent new zeal...</td>\n",
              "      <td>russia angered by israeli military sale to ge...</td>\n",
              "      <td>an american citizen living in s ossetia blame...</td>\n",
              "      <td>welcome to world war iv  now in high definiti...</td>\n",
              "      <td>georgia s move  a mistake of monumental propo...</td>\n",
              "      <td>russia presses deeper into georgia  u s  says...</td>\n",
              "      <td>abhinav bindra wins first ever individual oly...</td>\n",
              "      <td>u s  ship heads for arctic to define territory</td>\n",
              "      <td>drivers in a jerusalem taxi station threaten ...</td>\n",
              "      <td>the french team is stunned by phelps and the ...</td>\n",
              "      <td>israel and the us behind the georgian aggress...</td>\n",
              "      <td>do not believe tv  neither russian nor georg...</td>\n",
              "      <td>riots are still going on in montreal  canada ...</td>\n",
              "      <td>china to overtake us as largest manufacturer</td>\n",
              "      <td>war in south ossetia  pics</td>\n",
              "      <td>israeli physicians group condemns state torture</td>\n",
              "      <td>russia has just beaten the united states ove...</td>\n",
              "      <td>perhaps  the  question about the georgia   ru...</td>\n",
              "      <td>russia is so much better at war</td>\n",
              "      <td>so this is what it s come to  trading sex for...</td>\n",
              "    </tr>\n",
              "    <tr>\n",
              "      <th>2</th>\n",
              "      <td>2008-08-12</td>\n",
              "      <td>0</td>\n",
              "      <td>remember that adorable   year old who sang at...</td>\n",
              "      <td>russia  ends georgia operation</td>\n",
              "      <td>if we had no sexual harassment we would have...</td>\n",
              "      <td>al qa eda is losing support in iraq because o...</td>\n",
              "      <td>ceasefire in georgia  putin outmaneuvers the ...</td>\n",
              "      <td>why microsoft and intel tried to kill the xo ...</td>\n",
              "      <td>stratfor  the russo georgian war and the bala...</td>\n",
              "      <td>i m trying to get a sense of this whole georg...</td>\n",
              "      <td>the us military was surprised by the timing a...</td>\n",
              "      <td>u s  beats war drum as iran dumps the dollar</td>\n",
              "      <td>gorbachev   georgian military attacked the so...</td>\n",
              "      <td>cnn use footage of tskhinvali ruins to cover ...</td>\n",
              "      <td>beginning a war as the olympics were opening ...</td>\n",
              "      <td>pyramids as large as the luxor stacked int...</td>\n",
              "      <td>the    top party cities in the world</td>\n",
              "      <td>u s  troops still in georgia  did you know th...</td>\n",
              "      <td>why russias response to georgia was right</td>\n",
              "      <td>gorbachev accuses u s  of making a  serious b...</td>\n",
              "      <td>russia  georgia  and nato  cold war two</td>\n",
              "      <td>remember that adorable    year old who led yo...</td>\n",
              "      <td>war in georgia  the israeli connection</td>\n",
              "      <td>all signs point to the us encouraging georgia...</td>\n",
              "      <td>christopher king argues that the us and nato ...</td>\n",
              "      <td>america  the new mexico</td>\n",
              "      <td>bbc news   asia pacific   extinction  by man ...</td>\n",
              "    </tr>\n",
              "    <tr>\n",
              "      <th>3</th>\n",
              "      <td>2008-08-13</td>\n",
              "      <td>0</td>\n",
              "      <td>u s  refuses israel weapons to attack iran  ...</td>\n",
              "      <td>when the president ordered to attack tskhinva...</td>\n",
              "      <td>israel clears troops who killed reuters came...</td>\n",
              "      <td>britain  s policy of being tough on drugs is ...</td>\n",
              "      <td>body of    year old found in trunk  latest  r...</td>\n",
              "      <td>china has moved     million  quake survivors ...</td>\n",
              "      <td>bush announces operation get all up in russia...</td>\n",
              "      <td>russian forces sink georgian ships</td>\n",
              "      <td>the commander of a navy air reconnaissance sq...</td>\n",
              "      <td>of cnn readers  russia s actions in georg...</td>\n",
              "      <td>usa to send fleet into black sea to help geor...</td>\n",
              "      <td>us warns against israeli plan to strike again...</td>\n",
              "      <td>in an intriguing cyberalliance  two estonian ...</td>\n",
              "      <td>the cnn effect  georgia schools russia in inf...</td>\n",
              "      <td>why russias response to georgia was right</td>\n",
              "      <td>elephants extinct by</td>\n",
              "      <td>us humanitarian missions soon in georgia   if...</td>\n",
              "      <td>georgia s ddos came from us sources</td>\n",
              "      <td>russian convoy heads into georgia  violating ...</td>\n",
              "      <td>israeli defence minister  us against strike o...</td>\n",
              "      <td>gorbachev  we had no choice</td>\n",
              "      <td>witness  russian forces head towards tbilisi ...</td>\n",
              "      <td>quarter of russians blame u s  for conflict ...</td>\n",
              "      <td>georgian president  says us military will tak...</td>\n",
              "      <td>nobel laureate aleksander solzhenitsyn ...</td>\n",
              "    </tr>\n",
              "    <tr>\n",
              "      <th>4</th>\n",
              "      <td>2008-08-14</td>\n",
              "      <td>1</td>\n",
              "      <td>all the experts admit that we should legalise...</td>\n",
              "      <td>war in south osetia      pictures made by a r...</td>\n",
              "      <td>swedish wrestler ara abrahamian throws away m...</td>\n",
              "      <td>russia exaggerated the death toll in south os...</td>\n",
              "      <td>missile that killed   inside pakistan may hav...</td>\n",
              "      <td>rushdie condemns random house s refusal to pu...</td>\n",
              "      <td>poland and us agree to missle defense deal  i...</td>\n",
              "      <td>will the russians conquer tblisi  bet on it  ...</td>\n",
              "      <td>russia exaggerating south ossetian death toll...</td>\n",
              "      <td>musharraf expected to resign rather than fac...</td>\n",
              "      <td>moscow made plans months ago to invade georgia</td>\n",
              "      <td>why russias response to georgia was right</td>\n",
              "      <td>nigeria has handed over the potentially oil r...</td>\n",
              "      <td>the us and poland have agreed a preliminary d...</td>\n",
              "      <td>russia apparently is sabotaging infrastructur...</td>\n",
              "      <td>bank analyst forecast georgian crisis   days ...</td>\n",
              "      <td>georgia confict could set back russia s us re...</td>\n",
              "      <td>war in the caucasus is as much the product of...</td>\n",
              "      <td>non media  photos of south ossetia georgia c...</td>\n",
              "      <td>georgian tv reporter shot by russian sniper d...</td>\n",
              "      <td>saudi arabia  mother moves to block child mar...</td>\n",
              "      <td>taliban wages war on humanitarian aid workers</td>\n",
              "      <td>russia  world   can forget about  georgia  s ...</td>\n",
              "      <td>darfur rebels accuse sudan of mounting major ...</td>\n",
              "      <td>philippines   peace advocate say muslims need...</td>\n",
              "    </tr>\n",
              "  </tbody>\n",
              "</table>\n",
              "</div>"
            ],
            "text/plain": [
              "         Date  ...                                                 25\n",
              "0  2008-08-08  ...             no help for mexico s kidnapping surge \n",
              "1  2008-08-11  ...   so this is what it s come to  trading sex for...\n",
              "2  2008-08-12  ...   bbc news   asia pacific   extinction  by man ...\n",
              "3  2008-08-13  ...         nobel laureate aleksander solzhenitsyn ...\n",
              "4  2008-08-14  ...   philippines   peace advocate say muslims need...\n",
              "\n",
              "[5 rows x 27 columns]"
            ]
          },
          "metadata": {},
          "execution_count": 14
        }
      ]
    },
    {
      "cell_type": "code",
      "metadata": {
        "colab": {
          "base_uri": "https://localhost:8080/",
          "height": 122
        },
        "id": "iAzXaTnPEKwD",
        "outputId": "90882ea8-2902-4473-fb2b-5d7b3acc6c44"
      },
      "source": [
        "headline=[]\n",
        "for j in range(1986):\n",
        "  headline.append(\" \".join(str(x) for x in df.iloc[j,2:27]))\n",
        "headline[0]"
      ],
      "execution_count": null,
      "outputs": [
        {
          "output_type": "execute_result",
          "data": {
            "application/vnd.google.colaboratory.intrinsic+json": {
              "type": "string"
            },
            "text/plain": [
              "' georgia  downs two russian warplanes  as countries move to brink of war   breaking  musharraf to be impeached    russia today  columns of troops roll into south ossetia  footage from fighting  youtube    russian tanks are moving towards the capital of south ossetia  which has reportedly been completely destroyed by georgian artillery fire   afghan children raped with  impunity   u n  official says   this is sick  a three year old was raped and they do nothing       russian tanks have entered south ossetia whilst georgia shoots down two russian jets    breaking  georgia invades south ossetia  russia warned it would intervene on so s side   the  enemy combatent  trials are nothing but a sham  salim haman has been sentenced to       years  but will be kept longer anyway just because they feel like it    georgian troops retreat from s  osettain capital  presumably leaving several hundred people killed   video    did the u s  prep georgia for war with russia    rice gives green light for israel to attack iran  says u s  has no veto over israeli military ops   announcing class action lawsuit on behalf of american public against the fbi   so   russia and georgia are at war and the nyt s top story is opening ceremonies of the olympics   what a fucking disgrace and yet further proof of the decline of journalism    china tells bush to stay out of other countries  affairs   did world war iii start today    georgia invades south ossetia   if russia gets involved  will nato absorb georgia and unleash a full scale war    al qaeda faces islamist backlash   condoleezza rice   the us would not act to prevent an israeli strike on iran   israeli defense minister ehud barak   israel is prepared for uncompromising victory in the case of military hostilities     this is a busy day   the european union has approved new sanctions against iran in protest at its nuclear programme    georgia will withdraw       soldiers from iraq to help fight off russian forces in georgia s breakaway region of south ossetia   why the pentagon thinks attacking iran is a bad idea   us news  amp  world report   caucasus in crisis  georgia invades south ossetia   indian shoe manufactory    and again in a series of  you do not like your work     visitors suffering from mental illnesses banned from olympics   no help for mexico s kidnapping surge '"
            ]
          },
          "metadata": {},
          "execution_count": 15
        }
      ]
    },
    {
      "cell_type": "code",
      "metadata": {
        "id": "KhtEoye7vE11"
      },
      "source": [
        "w=WordNetLemmatizer()\n",
        "for i in range(len(headline)):\n",
        "  k=headline[i].split()\n",
        "  k=[w.lemmatize(word) for word in k if not word in stopwords.words('english')]\n",
        "  headline[i]=\" \".join(k)\n",
        "headline[0]"
      ],
      "execution_count": null,
      "outputs": []
    },
    {
      "cell_type": "code",
      "metadata": {
        "colab": {
          "base_uri": "https://localhost:8080/"
        },
        "id": "Pbhy7d_W1neK",
        "outputId": "e830f8e0-ab9e-49b9-93f9-8de1fc3c4906"
      },
      "source": [
        "len(headline)"
      ],
      "execution_count": null,
      "outputs": [
        {
          "output_type": "execute_result",
          "data": {
            "text/plain": [
              "1986"
            ]
          },
          "metadata": {},
          "execution_count": 17
        }
      ]
    },
    {
      "cell_type": "code",
      "metadata": {
        "colab": {
          "base_uri": "https://localhost:8080/"
        },
        "id": "RTT2-ASO96RB",
        "outputId": "d1384c0e-b3fd-41f1-aafd-81b90920d9ff"
      },
      "source": [
        "tf=TfidfVectorizer(max_features=5000,ngram_range=(2,2))\n",
        "X=tf.fit_transform(headline).toarray()\n",
        "X.shape"
      ],
      "execution_count": null,
      "outputs": [
        {
          "output_type": "execute_result",
          "data": {
            "text/plain": [
              "(1986, 5000)"
            ]
          },
          "metadata": {},
          "execution_count": 29
        }
      ]
    },
    {
      "cell_type": "code",
      "metadata": {
        "id": "zcyHhNl8qSt4"
      },
      "source": [
        "Y=df.iloc[:,1]"
      ],
      "execution_count": null,
      "outputs": []
    },
    {
      "cell_type": "code",
      "metadata": {
        "colab": {
          "base_uri": "https://localhost:8080/"
        },
        "id": "d8E-44HmfyrM",
        "outputId": "e5bbb257-efd1-4500-8887-379f257d038a"
      },
      "source": [
        "X_train,X_test,Y_train,Y_test=train_test_split(X,Y,test_size=0.2,random_state=10,stratify=Y)\n",
        "sm=SMOTE(random_state=0)\n",
        "X_train_res,Y_train_res=sm.fit_resample(X_train,Y_train)\n",
        "print(sum(Y_train_res==1))\n",
        "print(sum(Y_train_res==0))"
      ],
      "execution_count": null,
      "outputs": [
        {
          "output_type": "stream",
          "name": "stdout",
          "text": [
            "849\n",
            "849\n"
          ]
        }
      ]
    },
    {
      "cell_type": "code",
      "metadata": {
        "colab": {
          "base_uri": "https://localhost:8080/",
          "height": 525
        },
        "id": "EyouzRecABBi",
        "outputId": "a87cbda0-47ae-4add-d005-7488de7a5912"
      },
      "source": [
        "model1=LogisticRegression()\n",
        "model1.fit(X_train_res,Y_train_res)\n",
        "Y_pred1=model1.predict(X_test)\n",
        "print(accuracy_score(Y_test,Y_pred1))\n",
        "print(classification_report(Y_test,Y_pred1))\n",
        "plot_confusion_matrix(model1,X_test,Y_test)"
      ],
      "execution_count": null,
      "outputs": [
        {
          "output_type": "stream",
          "name": "stdout",
          "text": [
            "0.5050251256281407\n",
            "              precision    recall  f1-score   support\n",
            "\n",
            "           0       0.47      0.48      0.47       185\n",
            "           1       0.54      0.53      0.53       213\n",
            "\n",
            "    accuracy                           0.51       398\n",
            "   macro avg       0.50      0.50      0.50       398\n",
            "weighted avg       0.51      0.51      0.51       398\n",
            "\n"
          ]
        },
        {
          "output_type": "stream",
          "name": "stderr",
          "text": [
            "/usr/local/lib/python3.7/dist-packages/sklearn/utils/deprecation.py:87: FutureWarning: Function plot_confusion_matrix is deprecated; Function `plot_confusion_matrix` is deprecated in 1.0 and will be removed in 1.2. Use one of the class methods: ConfusionMatrixDisplay.from_predictions or ConfusionMatrixDisplay.from_estimator.\n",
            "  warnings.warn(msg, category=FutureWarning)\n"
          ]
        },
        {
          "output_type": "execute_result",
          "data": {
            "text/plain": [
              "<sklearn.metrics._plot.confusion_matrix.ConfusionMatrixDisplay at 0x7fe8a31b5b10>"
            ]
          },
          "metadata": {},
          "execution_count": 32
        },
        {
          "output_type": "display_data",
          "data": {
            "image/png": "[encoded data removed]",
            "text/plain": [
              "<Figure size 432x288 with 2 Axes>"
            ]
          },
          "metadata": {
            "needs_background": "light"
          }
        }
      ]
    },
    {
      "cell_type": "code",
      "metadata": {
        "colab": {
          "base_uri": "https://localhost:8080/",
          "height": 611
        },
        "id": "vtErtpr1ArjX",
        "outputId": "4e2f0bd9-3dad-4433-e7bd-ecf69882b5ef"
      },
      "source": [
        "model2=KNeighborsClassifier(n_neighbors=7)\n",
        "model2.fit(X_train_res,Y_train_res)\n",
        "Y_pred2=model2.predict(X_test)\n",
        "print(classification_report(Y_test,Y_pred2))\n",
        "plot_confusion_matrix(model2,X_test,Y_test)"
      ],
      "execution_count": null,
      "outputs": [
        {
          "output_type": "stream",
          "name": "stderr",
          "text": [
            "/usr/local/lib/python3.7/dist-packages/sklearn/metrics/_classification.py:1308: UndefinedMetricWarning: Precision and F-score are ill-defined and being set to 0.0 in labels with no predicted samples. Use `zero_division` parameter to control this behavior.\n",
            "  _warn_prf(average, modifier, msg_start, len(result))\n",
            "/usr/local/lib/python3.7/dist-packages/sklearn/metrics/_classification.py:1308: UndefinedMetricWarning: Precision and F-score are ill-defined and being set to 0.0 in labels with no predicted samples. Use `zero_division` parameter to control this behavior.\n",
            "  _warn_prf(average, modifier, msg_start, len(result))\n",
            "/usr/local/lib/python3.7/dist-packages/sklearn/metrics/_classification.py:1308: UndefinedMetricWarning: Precision and F-score are ill-defined and being set to 0.0 in labels with no predicted samples. Use `zero_division` parameter to control this behavior.\n",
            "  _warn_prf(average, modifier, msg_start, len(result))\n",
            "/usr/local/lib/python3.7/dist-packages/sklearn/utils/deprecation.py:87: FutureWarning: Function plot_confusion_matrix is deprecated; Function `plot_confusion_matrix` is deprecated in 1.0 and will be removed in 1.2. Use one of the class methods: ConfusionMatrixDisplay.from_predictions or ConfusionMatrixDisplay.from_estimator.\n",
            "  warnings.warn(msg, category=FutureWarning)\n"
          ]
        },
        {
          "output_type": "stream",
          "name": "stdout",
          "text": [
            "              precision    recall  f1-score   support\n",
            "\n",
            "           0       0.46      1.00      0.63       185\n",
            "           1       0.00      0.00      0.00       213\n",
            "\n",
            "    accuracy                           0.46       398\n",
            "   macro avg       0.23      0.50      0.32       398\n",
            "weighted avg       0.22      0.46      0.29       398\n",
            "\n"
          ]
        },
        {
          "output_type": "execute_result",
          "data": {
            "text/plain": [
              "<sklearn.metrics._plot.confusion_matrix.ConfusionMatrixDisplay at 0x7fe8a3148d10>"
            ]
          },
          "metadata": {},
          "execution_count": 33
        },
        {
          "output_type": "display_data",
          "data": {
            "image/png": "[encoded data removed]",
            "text/plain": [
              "<Figure size 432x288 with 2 Axes>"
            ]
          },
          "metadata": {
            "needs_background": "light"
          }
        }
      ]
    },
    {
      "cell_type": "code",
      "metadata": {
        "id": "z-8WG1hmBMJN",
        "colab": {
          "base_uri": "https://localhost:8080/",
          "height": 525
        },
        "outputId": "75a651b6-e1e7-45e4-87fd-8d19656099be"
      },
      "source": [
        "model3=DecisionTreeClassifier()\n",
        "model3.fit(X_train_res,Y_train_res)\n",
        "Y_pred3=model3.predict(X_test)\n",
        "print(accuracy_score(Y_test,Y_pred3))\n",
        "print(classification_report(Y_test,Y_pred3))\n",
        "plot_confusion_matrix(model3,X_test,Y_test)"
      ],
      "execution_count": null,
      "outputs": [
        {
          "output_type": "stream",
          "name": "stdout",
          "text": [
            "0.5201005025125628\n",
            "              precision    recall  f1-score   support\n",
            "\n",
            "           0       0.48      0.44      0.46       185\n",
            "           1       0.55      0.59      0.57       213\n",
            "\n",
            "    accuracy                           0.52       398\n",
            "   macro avg       0.51      0.51      0.51       398\n",
            "weighted avg       0.52      0.52      0.52       398\n",
            "\n"
          ]
        },
        {
          "output_type": "stream",
          "name": "stderr",
          "text": [
            "/usr/local/lib/python3.7/dist-packages/sklearn/utils/deprecation.py:87: FutureWarning: Function plot_confusion_matrix is deprecated; Function `plot_confusion_matrix` is deprecated in 1.0 and will be removed in 1.2. Use one of the class methods: ConfusionMatrixDisplay.from_predictions or ConfusionMatrixDisplay.from_estimator.\n",
            "  warnings.warn(msg, category=FutureWarning)\n"
          ]
        },
        {
          "output_type": "execute_result",
          "data": {
            "text/plain": [
              "<sklearn.metrics._plot.confusion_matrix.ConfusionMatrixDisplay at 0x7fe8adf14f50>"
            ]
          },
          "metadata": {},
          "execution_count": 34
        },
        {
          "output_type": "display_data",
          "data": {
            "image/png": "[encoded data removed]",
            "text/plain": [
              "<Figure size 432x288 with 2 Axes>"
            ]
          },
          "metadata": {
            "needs_background": "light"
          }
        }
      ]
    },
    {
      "cell_type": "code",
      "metadata": {
        "colab": {
          "base_uri": "https://localhost:8080/",
          "height": 525
        },
        "id": "KmcKfUqdtk5H",
        "outputId": "dcc8fd28-40da-42f3-c104-210e57c8559b"
      },
      "source": [
        "model4=RandomForestClassifier(n_estimators=2000)\n",
        "model4.fit(X_train_res,Y_train_res)\n",
        "Y_pred4=model4.predict(X_test)\n",
        "print(accuracy_score(Y_test,Y_pred4))\n",
        "print(classification_report(Y_test,Y_pred4))\n",
        "plot_confusion_matrix(model4,X_test,Y_test)"
      ],
      "execution_count": null,
      "outputs": [
        {
          "output_type": "stream",
          "name": "stdout",
          "text": [
            "0.4949748743718593\n",
            "              precision    recall  f1-score   support\n",
            "\n",
            "           0       0.45      0.39      0.42       185\n",
            "           1       0.53      0.59      0.55       213\n",
            "\n",
            "    accuracy                           0.49       398\n",
            "   macro avg       0.49      0.49      0.49       398\n",
            "weighted avg       0.49      0.49      0.49       398\n",
            "\n"
          ]
        },
        {
          "output_type": "stream",
          "name": "stderr",
          "text": [
            "/usr/local/lib/python3.7/dist-packages/sklearn/utils/deprecation.py:87: FutureWarning: Function plot_confusion_matrix is deprecated; Function `plot_confusion_matrix` is deprecated in 1.0 and will be removed in 1.2. Use one of the class methods: ConfusionMatrixDisplay.from_predictions or ConfusionMatrixDisplay.from_estimator.\n",
            "  warnings.warn(msg, category=FutureWarning)\n"
          ]
        },
        {
          "output_type": "execute_result",
          "data": {
            "text/plain": [
              "<sklearn.metrics._plot.confusion_matrix.ConfusionMatrixDisplay at 0x7fe8aea10110>"
            ]
          },
          "metadata": {},
          "execution_count": 35
        },
        {
          "output_type": "display_data",
          "data": {
            "image/png": "[encoded data removed]",
            "text/plain": [
              "<Figure size 432x288 with 2 Axes>"
            ]
          },
          "metadata": {
            "needs_background": "light"
          }
        }
      ]
    },
    {
      "cell_type": "code",
      "metadata": {
        "id": "Spv1awc_t2qY"
      },
      "source": [
        ""
      ],
      "execution_count": null,
      "outputs": []
    }
  ]
}